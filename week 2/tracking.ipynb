{
 "cells": [
  {
   "cell_type": "code",
   "execution_count": 95,
   "metadata": {},
   "outputs": [
    {
     "data": {
      "text/plain": [
       "'1.26.1'"
      ]
     },
     "execution_count": 95,
     "metadata": {},
     "output_type": "execute_result"
    }
   ],
   "source": [
    "import mlflow\n",
    "\n",
    "\n",
    "mlflow.__version__"
   ]
  },
  {
   "cell_type": "code",
   "execution_count": 4,
   "metadata": {},
   "outputs": [],
   "source": [
    "from mlflow.tracking import MlflowClient\n",
    "\n",
    "MLFLOW_TRACKING_URI = 'sqlite:///mlflow.db'\n",
    "\n",
    "client = MlflowClient(tracking_uri=MLFLOW_TRACKING_URI)"
   ]
  },
  {
   "cell_type": "code",
   "execution_count": 5,
   "metadata": {},
   "outputs": [
    {
     "data": {
      "text/plain": [
       "[<Experiment: artifact_location='./mlruns/0', experiment_id='0', lifecycle_stage='active', name='Default', tags={}>,\n",
       " <Experiment: artifact_location='./mlruns/1', experiment_id='1', lifecycle_stage='active', name='nyc-taxi-experiment', tags={}>]"
      ]
     },
     "execution_count": 5,
     "metadata": {},
     "output_type": "execute_result"
    }
   ],
   "source": [
    "client.list_experiments()"
   ]
  },
  {
   "cell_type": "code",
   "execution_count": 6,
   "metadata": {},
   "outputs": [],
   "source": [
    "from mlflow.entities import ViewType\n",
    "\n",
    "runs = client.search_runs(\n",
    "    experiment_ids='1',\n",
    "    filter_string='',\n",
    "    run_view_type=ViewType.ACTIVE_ONLY,\n",
    "    max_results=5,\n",
    "    order_by=['metrics.rmse ASC']\n",
    "\n",
    ")"
   ]
  },
  {
   "cell_type": "code",
   "execution_count": 51,
   "metadata": {},
   "outputs": [
    {
     "name": "stdout",
     "output_type": "stream",
     "text": [
      "run id: c458c2f0cd6f498899439f5aff540282, rmse: 4.2979\n",
      "run id: 93590964ca5d4303b53c706291af04dd, rmse: 5.8789\n"
     ]
    }
   ],
   "source": [
    "for run in runs:\n",
    "    print(f\"run id: {run.info.run_id}, rmse: {run.data.metrics['rmse']:.4f}\")"
   ]
  },
  {
   "cell_type": "code",
   "execution_count": 42,
   "metadata": {},
   "outputs": [
    {
     "name": "stdout",
     "output_type": "stream",
     "text": [
      "version: 1, stage: Production\n",
      "version: 2, stage: Staging\n"
     ]
    }
   ],
   "source": [
    "model_name = \"nyc-taxi-regressor\"\n",
    "latest_versions = client.get_latest_versions(name=model_name)\n",
    "\n",
    "for version in latest_versions:\n",
    "    print(f\"version: {version.version}, stage: {version.current_stage}\")"
   ]
  },
  {
   "cell_type": "code",
   "execution_count": 43,
   "metadata": {},
   "outputs": [
    {
     "data": {
      "text/plain": [
       "<ModelVersion: creation_timestamp=1653865269364, current_stage='Production', description='', last_updated_timestamp=1653870776082, name='nyc-taxi-regressor', run_id='c458c2f0cd6f498899439f5aff540282', run_link='', source='./mlruns/1/c458c2f0cd6f498899439f5aff540282/artifacts/models_mlflow', status='READY', status_message=None, tags={'model': 'xgboost'}, user_id=None, version=1>"
      ]
     },
     "execution_count": 43,
     "metadata": {},
     "output_type": "execute_result"
    }
   ],
   "source": [
    "client.transition_model_version_stage(\n",
    "    name=model_name,\n",
    "    version=1,\n",
    "    stage=\"Production\",\n",
    "    archive_existing_versions=False\n",
    ")"
   ]
  },
  {
   "cell_type": "code",
   "execution_count": 88,
   "metadata": {},
   "outputs": [],
   "source": [
    "import pandas as pd\n",
    "import mlflow\n",
    "from sklearn.metrics import mean_squared_error\n",
    "\n",
    "\n",
    "\n",
    "def read_dataframe(filename):\n",
    "    df = pd.read_parquet(filename)\n",
    "\n",
    "    df.lpep_dropoff_datetime = pd.to_datetime(df.lpep_dropoff_datetime)\n",
    "    df.lpep_pickup_datetime = pd.to_datetime(df.lpep_pickup_datetime)\n",
    "\n",
    "    df['duration'] = df.lpep_dropoff_datetime - df.lpep_pickup_datetime\n",
    "    df.duration = df.duration.apply(lambda td: td.total_seconds() / 60)\n",
    "\n",
    "    df = df[(df.duration >= 1) & (df.duration <= 60)]\n",
    "\n",
    "    categorical = ['PULocationID', 'DOLocationID']\n",
    "    df[categorical] = df[categorical].astype(str)\n",
    "    \n",
    "    return df\n",
    "\n",
    "def preprocess(df, dv):\n",
    "    df['PU_DO'] = df['PULocationID'] + '_' + df['DOLocationID']\n",
    "    categorical = ['PU_DO'] #'PULocationID', 'DOLocationID']\n",
    "    numerical = ['trip_distance']\n",
    "    train_dicts = df[categorical + numerical].to_dict(orient='records')\n",
    "    return dv.transform(train_dicts)\n",
    "\n",
    "def test_model(run_id, X_test, y_test):\n",
    "    model = mlflow.xgboost.load_model(f\"runs:/{run_id}/models_mlflow\")\n",
    "    y_pred = model.predict(X_test)\n",
    "    return {\"rmse:\": mean_squared_error(y_test, y_pred, squared=False)}\n",
    "\n",
    "\n",
    "\n",
    "\n",
    "\n"
   ]
  },
  {
   "cell_type": "code",
   "execution_count": 89,
   "metadata": {},
   "outputs": [
    {
     "data": {
      "text/plain": [
       "(80372, 21)"
      ]
     },
     "execution_count": 89,
     "metadata": {},
     "output_type": "execute_result"
    }
   ],
   "source": [
    "df = read_dataframe('https://s3.amazonaws.com/nyc-tlc/trip+data/green_tripdata_2021-03.parquet')\n",
    "df.shape"
   ]
  },
  {
   "cell_type": "code",
   "execution_count": 90,
   "metadata": {},
   "outputs": [
    {
     "data": {
      "text/plain": [
       "'/home/ubuntu/notebooks/week 2/preprocessor'"
      ]
     },
     "execution_count": 90,
     "metadata": {},
     "output_type": "execute_result"
    }
   ],
   "source": [
    "run_id = 'c458c2f0cd6f498899439f5aff540282'\n",
    "client.download_artifacts(run_id=run_id, path='preprocessor', dst_path='.')\n"
   ]
  },
  {
   "cell_type": "code",
   "execution_count": 91,
   "metadata": {},
   "outputs": [],
   "source": [
    "import pickle\n",
    "\n",
    "with open('preprocessor/preprocessor.b', 'rb') as f_in:\n",
    "    dv = pickle.load(f_in)\n",
    "\n",
    "\n"
   ]
  },
  {
   "cell_type": "code",
   "execution_count": 92,
   "metadata": {},
   "outputs": [],
   "source": [
    "X_test = preprocess(df, dv)"
   ]
  },
  {
   "cell_type": "code",
   "execution_count": 93,
   "metadata": {},
   "outputs": [],
   "source": [
    "target = 'duration'\n",
    "y_test = df[target].values"
   ]
  },
  {
   "cell_type": "code",
   "execution_count": 94,
   "metadata": {},
   "outputs": [
    {
     "ename": "MissingConfigException",
     "evalue": "Yaml file '/home/ubuntu/notebooks/week 2/mlruns/1/c458c2f0cd6f498899439f5aff540282/meta.yaml' does not exist.",
     "output_type": "error",
     "traceback": [
      "\u001b[0;31m---------------------------------------------------------------------------\u001b[0m",
      "\u001b[0;31mMissingConfigException\u001b[0m                    Traceback (most recent call last)",
      "File \u001b[0;32m<timed eval>:1\u001b[0m, in \u001b[0;36m<module>\u001b[0;34m\u001b[0m\n",
      "\u001b[1;32m/home/ubuntu/notebooks/week 2/tracking.ipynb Cell 7'\u001b[0m in \u001b[0;36mtest_model\u001b[0;34m(run_id, X_test, y_test)\u001b[0m\n\u001b[1;32m     <a href='vscode-notebook-cell://ssh-remote%2B52.91.138.177/home/ubuntu/notebooks/week%202/tracking.ipynb#ch0000006vscode-remote?line=29'>30</a>\u001b[0m \u001b[39mdef\u001b[39;00m \u001b[39mtest_model\u001b[39m(run_id, X_test, y_test):\n\u001b[0;32m---> <a href='vscode-notebook-cell://ssh-remote%2B52.91.138.177/home/ubuntu/notebooks/week%202/tracking.ipynb#ch0000006vscode-remote?line=30'>31</a>\u001b[0m     model \u001b[39m=\u001b[39m mlflow\u001b[39m.\u001b[39;49mxgboost\u001b[39m.\u001b[39;49mload_model(\u001b[39mf\u001b[39;49m\u001b[39m\"\u001b[39;49m\u001b[39mruns:/\u001b[39;49m\u001b[39m{\u001b[39;49;00mrun_id\u001b[39m}\u001b[39;49;00m\u001b[39m/models_mlflow\u001b[39;49m\u001b[39m\"\u001b[39;49m)\n\u001b[1;32m     <a href='vscode-notebook-cell://ssh-remote%2B52.91.138.177/home/ubuntu/notebooks/week%202/tracking.ipynb#ch0000006vscode-remote?line=31'>32</a>\u001b[0m     y_pred \u001b[39m=\u001b[39m model\u001b[39m.\u001b[39mpredict(X_test)\n\u001b[1;32m     <a href='vscode-notebook-cell://ssh-remote%2B52.91.138.177/home/ubuntu/notebooks/week%202/tracking.ipynb#ch0000006vscode-remote?line=32'>33</a>\u001b[0m     \u001b[39mreturn\u001b[39;00m {\u001b[39m\"\u001b[39m\u001b[39mrmse:\u001b[39m\u001b[39m\"\u001b[39m: mean_squared_error(y_test, y_pred, squared\u001b[39m=\u001b[39m\u001b[39mFalse\u001b[39;00m)}\n",
      "File \u001b[0;32m~/anaconda3/lib/python3.9/site-packages/mlflow/xgboost/__init__.py:334\u001b[0m, in \u001b[0;36mload_model\u001b[0;34m(model_uri, dst_path)\u001b[0m\n\u001b[1;32m    <a href='file:///home/ubuntu/anaconda3/lib/python3.9/site-packages/mlflow/xgboost/__init__.py?line=312'>313</a>\u001b[0m \u001b[39mdef\u001b[39;00m \u001b[39mload_model\u001b[39m(model_uri, dst_path\u001b[39m=\u001b[39m\u001b[39mNone\u001b[39;00m):\n\u001b[1;32m    <a href='file:///home/ubuntu/anaconda3/lib/python3.9/site-packages/mlflow/xgboost/__init__.py?line=313'>314</a>\u001b[0m     \u001b[39m\"\"\"\u001b[39;00m\n\u001b[1;32m    <a href='file:///home/ubuntu/anaconda3/lib/python3.9/site-packages/mlflow/xgboost/__init__.py?line=314'>315</a>\u001b[0m \u001b[39m    Load an XGBoost model from a local file or a run.\u001b[39;00m\n\u001b[1;32m    <a href='file:///home/ubuntu/anaconda3/lib/python3.9/site-packages/mlflow/xgboost/__init__.py?line=315'>316</a>\u001b[0m \n\u001b[0;32m   (...)\u001b[0m\n\u001b[1;32m    <a href='file:///home/ubuntu/anaconda3/lib/python3.9/site-packages/mlflow/xgboost/__init__.py?line=331'>332</a>\u001b[0m \u001b[39m             models, depending on the saved model class specification.\u001b[39;00m\n\u001b[1;32m    <a href='file:///home/ubuntu/anaconda3/lib/python3.9/site-packages/mlflow/xgboost/__init__.py?line=332'>333</a>\u001b[0m \u001b[39m    \"\"\"\u001b[39;00m\n\u001b[0;32m--> <a href='file:///home/ubuntu/anaconda3/lib/python3.9/site-packages/mlflow/xgboost/__init__.py?line=333'>334</a>\u001b[0m     local_model_path \u001b[39m=\u001b[39m _download_artifact_from_uri(artifact_uri\u001b[39m=\u001b[39;49mmodel_uri, output_path\u001b[39m=\u001b[39;49mdst_path)\n\u001b[1;32m    <a href='file:///home/ubuntu/anaconda3/lib/python3.9/site-packages/mlflow/xgboost/__init__.py?line=334'>335</a>\u001b[0m     flavor_conf \u001b[39m=\u001b[39m _get_flavor_configuration(local_model_path, FLAVOR_NAME)\n\u001b[1;32m    <a href='file:///home/ubuntu/anaconda3/lib/python3.9/site-packages/mlflow/xgboost/__init__.py?line=335'>336</a>\u001b[0m     _add_code_from_conf_to_system_path(local_model_path, flavor_conf)\n",
      "File \u001b[0;32m~/anaconda3/lib/python3.9/site-packages/mlflow/tracking/artifact_utils.py:94\u001b[0m, in \u001b[0;36m_download_artifact_from_uri\u001b[0;34m(artifact_uri, output_path)\u001b[0m\n\u001b[1;32m     <a href='file:///home/ubuntu/anaconda3/lib/python3.9/site-packages/mlflow/tracking/artifact_utils.py?line=90'>91</a>\u001b[0m     parsed_uri \u001b[39m=\u001b[39m parsed_uri\u001b[39m.\u001b[39m_replace(path\u001b[39m=\u001b[39mposixpath\u001b[39m.\u001b[39mdirname(parsed_uri\u001b[39m.\u001b[39mpath))\n\u001b[1;32m     <a href='file:///home/ubuntu/anaconda3/lib/python3.9/site-packages/mlflow/tracking/artifact_utils.py?line=91'>92</a>\u001b[0m     root_uri \u001b[39m=\u001b[39m prefix \u001b[39m+\u001b[39m urllib\u001b[39m.\u001b[39mparse\u001b[39m.\u001b[39murlunparse(parsed_uri)\n\u001b[0;32m---> <a href='file:///home/ubuntu/anaconda3/lib/python3.9/site-packages/mlflow/tracking/artifact_utils.py?line=93'>94</a>\u001b[0m \u001b[39mreturn\u001b[39;00m get_artifact_repository(artifact_uri\u001b[39m=\u001b[39;49mroot_uri)\u001b[39m.\u001b[39mdownload_artifacts(\n\u001b[1;32m     <a href='file:///home/ubuntu/anaconda3/lib/python3.9/site-packages/mlflow/tracking/artifact_utils.py?line=94'>95</a>\u001b[0m     artifact_path\u001b[39m=\u001b[39martifact_path, dst_path\u001b[39m=\u001b[39moutput_path\n\u001b[1;32m     <a href='file:///home/ubuntu/anaconda3/lib/python3.9/site-packages/mlflow/tracking/artifact_utils.py?line=95'>96</a>\u001b[0m )\n",
      "File \u001b[0;32m~/anaconda3/lib/python3.9/site-packages/mlflow/store/artifact/artifact_repository_registry.py:107\u001b[0m, in \u001b[0;36mget_artifact_repository\u001b[0;34m(artifact_uri)\u001b[0m\n\u001b[1;32m     <a href='file:///home/ubuntu/anaconda3/lib/python3.9/site-packages/mlflow/store/artifact/artifact_repository_registry.py?line=96'>97</a>\u001b[0m \u001b[39mdef\u001b[39;00m \u001b[39mget_artifact_repository\u001b[39m(artifact_uri):\n\u001b[1;32m     <a href='file:///home/ubuntu/anaconda3/lib/python3.9/site-packages/mlflow/store/artifact/artifact_repository_registry.py?line=97'>98</a>\u001b[0m     \u001b[39m\"\"\"Get an artifact repository from the registry based on the scheme of artifact_uri\u001b[39;00m\n\u001b[1;32m     <a href='file:///home/ubuntu/anaconda3/lib/python3.9/site-packages/mlflow/store/artifact/artifact_repository_registry.py?line=98'>99</a>\u001b[0m \n\u001b[1;32m    <a href='file:///home/ubuntu/anaconda3/lib/python3.9/site-packages/mlflow/store/artifact/artifact_repository_registry.py?line=99'>100</a>\u001b[0m \u001b[39m    :param artifact_uri: The artifact store URI. This URI is used to select which artifact\u001b[39;00m\n\u001b[0;32m   (...)\u001b[0m\n\u001b[1;32m    <a href='file:///home/ubuntu/anaconda3/lib/python3.9/site-packages/mlflow/store/artifact/artifact_repository_registry.py?line=104'>105</a>\u001b[0m \u001b[39m             requirements.\u001b[39;00m\n\u001b[1;32m    <a href='file:///home/ubuntu/anaconda3/lib/python3.9/site-packages/mlflow/store/artifact/artifact_repository_registry.py?line=105'>106</a>\u001b[0m \u001b[39m    \"\"\"\u001b[39;00m\n\u001b[0;32m--> <a href='file:///home/ubuntu/anaconda3/lib/python3.9/site-packages/mlflow/store/artifact/artifact_repository_registry.py?line=106'>107</a>\u001b[0m     \u001b[39mreturn\u001b[39;00m _artifact_repository_registry\u001b[39m.\u001b[39;49mget_artifact_repository(artifact_uri)\n",
      "File \u001b[0;32m~/anaconda3/lib/python3.9/site-packages/mlflow/store/artifact/artifact_repository_registry.py:73\u001b[0m, in \u001b[0;36mArtifactRepositoryRegistry.get_artifact_repository\u001b[0;34m(self, artifact_uri)\u001b[0m\n\u001b[1;32m     <a href='file:///home/ubuntu/anaconda3/lib/python3.9/site-packages/mlflow/store/artifact/artifact_repository_registry.py?line=65'>66</a>\u001b[0m \u001b[39mif\u001b[39;00m repository \u001b[39mis\u001b[39;00m \u001b[39mNone\u001b[39;00m:\n\u001b[1;32m     <a href='file:///home/ubuntu/anaconda3/lib/python3.9/site-packages/mlflow/store/artifact/artifact_repository_registry.py?line=66'>67</a>\u001b[0m     \u001b[39mraise\u001b[39;00m MlflowException(\n\u001b[1;32m     <a href='file:///home/ubuntu/anaconda3/lib/python3.9/site-packages/mlflow/store/artifact/artifact_repository_registry.py?line=67'>68</a>\u001b[0m         \u001b[39m\"\u001b[39m\u001b[39mCould not find a registered artifact repository for: \u001b[39m\u001b[39m{}\u001b[39;00m\u001b[39m. \u001b[39m\u001b[39m\"\u001b[39m\n\u001b[1;32m     <a href='file:///home/ubuntu/anaconda3/lib/python3.9/site-packages/mlflow/store/artifact/artifact_repository_registry.py?line=68'>69</a>\u001b[0m         \u001b[39m\"\u001b[39m\u001b[39mCurrently registered schemes are: \u001b[39m\u001b[39m{}\u001b[39;00m\u001b[39m\"\u001b[39m\u001b[39m.\u001b[39mformat(\n\u001b[1;32m     <a href='file:///home/ubuntu/anaconda3/lib/python3.9/site-packages/mlflow/store/artifact/artifact_repository_registry.py?line=69'>70</a>\u001b[0m             artifact_uri, \u001b[39mlist\u001b[39m(\u001b[39mself\u001b[39m\u001b[39m.\u001b[39m_registry\u001b[39m.\u001b[39mkeys())\n\u001b[1;32m     <a href='file:///home/ubuntu/anaconda3/lib/python3.9/site-packages/mlflow/store/artifact/artifact_repository_registry.py?line=70'>71</a>\u001b[0m         )\n\u001b[1;32m     <a href='file:///home/ubuntu/anaconda3/lib/python3.9/site-packages/mlflow/store/artifact/artifact_repository_registry.py?line=71'>72</a>\u001b[0m     )\n\u001b[0;32m---> <a href='file:///home/ubuntu/anaconda3/lib/python3.9/site-packages/mlflow/store/artifact/artifact_repository_registry.py?line=72'>73</a>\u001b[0m \u001b[39mreturn\u001b[39;00m repository(artifact_uri)\n",
      "File \u001b[0;32m~/anaconda3/lib/python3.9/site-packages/mlflow/store/artifact/runs_artifact_repo.py:26\u001b[0m, in \u001b[0;36mRunsArtifactRepository.__init__\u001b[0;34m(self, artifact_uri)\u001b[0m\n\u001b[1;32m     <a href='file:///home/ubuntu/anaconda3/lib/python3.9/site-packages/mlflow/store/artifact/runs_artifact_repo.py?line=22'>23</a>\u001b[0m \u001b[39mfrom\u001b[39;00m \u001b[39mmlflow\u001b[39;00m\u001b[39m.\u001b[39;00m\u001b[39mstore\u001b[39;00m\u001b[39m.\u001b[39;00m\u001b[39martifact\u001b[39;00m\u001b[39m.\u001b[39;00m\u001b[39martifact_repository_registry\u001b[39;00m \u001b[39mimport\u001b[39;00m get_artifact_repository\n\u001b[1;32m     <a href='file:///home/ubuntu/anaconda3/lib/python3.9/site-packages/mlflow/store/artifact/runs_artifact_repo.py?line=24'>25</a>\u001b[0m \u001b[39msuper\u001b[39m()\u001b[39m.\u001b[39m\u001b[39m__init__\u001b[39m(artifact_uri)\n\u001b[0;32m---> <a href='file:///home/ubuntu/anaconda3/lib/python3.9/site-packages/mlflow/store/artifact/runs_artifact_repo.py?line=25'>26</a>\u001b[0m uri \u001b[39m=\u001b[39m RunsArtifactRepository\u001b[39m.\u001b[39;49mget_underlying_uri(artifact_uri)\n\u001b[1;32m     <a href='file:///home/ubuntu/anaconda3/lib/python3.9/site-packages/mlflow/store/artifact/runs_artifact_repo.py?line=26'>27</a>\u001b[0m \u001b[39mself\u001b[39m\u001b[39m.\u001b[39mrepo \u001b[39m=\u001b[39m get_artifact_repository(uri)\n",
      "File \u001b[0;32m~/anaconda3/lib/python3.9/site-packages/mlflow/store/artifact/runs_artifact_repo.py:39\u001b[0m, in \u001b[0;36mRunsArtifactRepository.get_underlying_uri\u001b[0;34m(runs_uri)\u001b[0m\n\u001b[1;32m     <a href='file:///home/ubuntu/anaconda3/lib/python3.9/site-packages/mlflow/store/artifact/runs_artifact_repo.py?line=36'>37</a>\u001b[0m (run_id, artifact_path) \u001b[39m=\u001b[39m RunsArtifactRepository\u001b[39m.\u001b[39mparse_runs_uri(runs_uri)\n\u001b[1;32m     <a href='file:///home/ubuntu/anaconda3/lib/python3.9/site-packages/mlflow/store/artifact/runs_artifact_repo.py?line=37'>38</a>\u001b[0m tracking_uri \u001b[39m=\u001b[39m get_databricks_profile_uri_from_artifact_uri(runs_uri)\n\u001b[0;32m---> <a href='file:///home/ubuntu/anaconda3/lib/python3.9/site-packages/mlflow/store/artifact/runs_artifact_repo.py?line=38'>39</a>\u001b[0m uri \u001b[39m=\u001b[39m get_artifact_uri(run_id, artifact_path, tracking_uri)\n\u001b[1;32m     <a href='file:///home/ubuntu/anaconda3/lib/python3.9/site-packages/mlflow/store/artifact/runs_artifact_repo.py?line=39'>40</a>\u001b[0m \u001b[39massert\u001b[39;00m \u001b[39mnot\u001b[39;00m RunsArtifactRepository\u001b[39m.\u001b[39mis_runs_uri(uri)  \u001b[39m# avoid an infinite loop\u001b[39;00m\n\u001b[1;32m     <a href='file:///home/ubuntu/anaconda3/lib/python3.9/site-packages/mlflow/store/artifact/runs_artifact_repo.py?line=40'>41</a>\u001b[0m \u001b[39mreturn\u001b[39;00m add_databricks_profile_info_to_artifact_uri(uri, tracking_uri)\n",
      "File \u001b[0;32m~/anaconda3/lib/python3.9/site-packages/mlflow/tracking/artifact_utils.py:47\u001b[0m, in \u001b[0;36mget_artifact_uri\u001b[0;34m(run_id, artifact_path, tracking_uri)\u001b[0m\n\u001b[1;32m     <a href='file:///home/ubuntu/anaconda3/lib/python3.9/site-packages/mlflow/tracking/artifact_utils.py?line=40'>41</a>\u001b[0m     \u001b[39mraise\u001b[39;00m MlflowException(\n\u001b[1;32m     <a href='file:///home/ubuntu/anaconda3/lib/python3.9/site-packages/mlflow/tracking/artifact_utils.py?line=41'>42</a>\u001b[0m         message\u001b[39m=\u001b[39m\u001b[39m\"\u001b[39m\u001b[39mA run_id must be specified in order to obtain an artifact uri!\u001b[39m\u001b[39m\"\u001b[39m,\n\u001b[1;32m     <a href='file:///home/ubuntu/anaconda3/lib/python3.9/site-packages/mlflow/tracking/artifact_utils.py?line=42'>43</a>\u001b[0m         error_code\u001b[39m=\u001b[39mINVALID_PARAMETER_VALUE,\n\u001b[1;32m     <a href='file:///home/ubuntu/anaconda3/lib/python3.9/site-packages/mlflow/tracking/artifact_utils.py?line=43'>44</a>\u001b[0m     )\n\u001b[1;32m     <a href='file:///home/ubuntu/anaconda3/lib/python3.9/site-packages/mlflow/tracking/artifact_utils.py?line=45'>46</a>\u001b[0m store \u001b[39m=\u001b[39m _get_store(tracking_uri)\n\u001b[0;32m---> <a href='file:///home/ubuntu/anaconda3/lib/python3.9/site-packages/mlflow/tracking/artifact_utils.py?line=46'>47</a>\u001b[0m run \u001b[39m=\u001b[39m store\u001b[39m.\u001b[39;49mget_run(run_id)\n\u001b[1;32m     <a href='file:///home/ubuntu/anaconda3/lib/python3.9/site-packages/mlflow/tracking/artifact_utils.py?line=47'>48</a>\u001b[0m \u001b[39m# Maybe move this method to RunsArtifactRepository so the circular dependency is clearer.\u001b[39;00m\n\u001b[1;32m     <a href='file:///home/ubuntu/anaconda3/lib/python3.9/site-packages/mlflow/tracking/artifact_utils.py?line=48'>49</a>\u001b[0m \u001b[39massert\u001b[39;00m urllib\u001b[39m.\u001b[39mparse\u001b[39m.\u001b[39murlparse(run\u001b[39m.\u001b[39minfo\u001b[39m.\u001b[39martifact_uri)\u001b[39m.\u001b[39mscheme \u001b[39m!=\u001b[39m \u001b[39m\"\u001b[39m\u001b[39mruns\u001b[39m\u001b[39m\"\u001b[39m  \u001b[39m# avoid an infinite loop\u001b[39;00m\n",
      "File \u001b[0;32m~/anaconda3/lib/python3.9/site-packages/mlflow/store/tracking/file_store.py:530\u001b[0m, in \u001b[0;36mFileStore.get_run\u001b[0;34m(self, run_id)\u001b[0m\n\u001b[1;32m    <a href='file:///home/ubuntu/anaconda3/lib/python3.9/site-packages/mlflow/store/tracking/file_store.py?line=525'>526</a>\u001b[0m \u001b[39m\"\"\"\u001b[39;00m\n\u001b[1;32m    <a href='file:///home/ubuntu/anaconda3/lib/python3.9/site-packages/mlflow/store/tracking/file_store.py?line=526'>527</a>\u001b[0m \u001b[39mNote: Will get both active and deleted runs.\u001b[39;00m\n\u001b[1;32m    <a href='file:///home/ubuntu/anaconda3/lib/python3.9/site-packages/mlflow/store/tracking/file_store.py?line=527'>528</a>\u001b[0m \u001b[39m\"\"\"\u001b[39;00m\n\u001b[1;32m    <a href='file:///home/ubuntu/anaconda3/lib/python3.9/site-packages/mlflow/store/tracking/file_store.py?line=528'>529</a>\u001b[0m _validate_run_id(run_id)\n\u001b[0;32m--> <a href='file:///home/ubuntu/anaconda3/lib/python3.9/site-packages/mlflow/store/tracking/file_store.py?line=529'>530</a>\u001b[0m run_info \u001b[39m=\u001b[39m \u001b[39mself\u001b[39;49m\u001b[39m.\u001b[39;49m_get_run_info(run_id)\n\u001b[1;32m    <a href='file:///home/ubuntu/anaconda3/lib/python3.9/site-packages/mlflow/store/tracking/file_store.py?line=530'>531</a>\u001b[0m \u001b[39mif\u001b[39;00m run_info \u001b[39mis\u001b[39;00m \u001b[39mNone\u001b[39;00m:\n\u001b[1;32m    <a href='file:///home/ubuntu/anaconda3/lib/python3.9/site-packages/mlflow/store/tracking/file_store.py?line=531'>532</a>\u001b[0m     \u001b[39mraise\u001b[39;00m MlflowException(\n\u001b[1;32m    <a href='file:///home/ubuntu/anaconda3/lib/python3.9/site-packages/mlflow/store/tracking/file_store.py?line=532'>533</a>\u001b[0m         \u001b[39m\"\u001b[39m\u001b[39mRun \u001b[39m\u001b[39m'\u001b[39m\u001b[39m%s\u001b[39;00m\u001b[39m'\u001b[39m\u001b[39m metadata is in invalid state.\u001b[39m\u001b[39m\"\u001b[39m \u001b[39m%\u001b[39m run_id, databricks_pb2\u001b[39m.\u001b[39mINVALID_STATE\n\u001b[1;32m    <a href='file:///home/ubuntu/anaconda3/lib/python3.9/site-packages/mlflow/store/tracking/file_store.py?line=533'>534</a>\u001b[0m     )\n",
      "File \u001b[0;32m~/anaconda3/lib/python3.9/site-packages/mlflow/store/tracking/file_store.py:552\u001b[0m, in \u001b[0;36mFileStore._get_run_info\u001b[0;34m(self, run_uuid)\u001b[0m\n\u001b[1;32m    <a href='file:///home/ubuntu/anaconda3/lib/python3.9/site-packages/mlflow/store/tracking/file_store.py?line=547'>548</a>\u001b[0m \u001b[39mif\u001b[39;00m run_dir \u001b[39mis\u001b[39;00m \u001b[39mNone\u001b[39;00m:\n\u001b[1;32m    <a href='file:///home/ubuntu/anaconda3/lib/python3.9/site-packages/mlflow/store/tracking/file_store.py?line=548'>549</a>\u001b[0m     \u001b[39mraise\u001b[39;00m MlflowException(\n\u001b[1;32m    <a href='file:///home/ubuntu/anaconda3/lib/python3.9/site-packages/mlflow/store/tracking/file_store.py?line=549'>550</a>\u001b[0m         \u001b[39m\"\u001b[39m\u001b[39mRun \u001b[39m\u001b[39m'\u001b[39m\u001b[39m%s\u001b[39;00m\u001b[39m'\u001b[39m\u001b[39m not found\u001b[39m\u001b[39m\"\u001b[39m \u001b[39m%\u001b[39m run_uuid, databricks_pb2\u001b[39m.\u001b[39mRESOURCE_DOES_NOT_EXIST\n\u001b[1;32m    <a href='file:///home/ubuntu/anaconda3/lib/python3.9/site-packages/mlflow/store/tracking/file_store.py?line=550'>551</a>\u001b[0m     )\n\u001b[0;32m--> <a href='file:///home/ubuntu/anaconda3/lib/python3.9/site-packages/mlflow/store/tracking/file_store.py?line=551'>552</a>\u001b[0m run_info \u001b[39m=\u001b[39m \u001b[39mself\u001b[39;49m\u001b[39m.\u001b[39;49m_get_run_info_from_dir(run_dir)\n\u001b[1;32m    <a href='file:///home/ubuntu/anaconda3/lib/python3.9/site-packages/mlflow/store/tracking/file_store.py?line=552'>553</a>\u001b[0m \u001b[39mif\u001b[39;00m run_info\u001b[39m.\u001b[39mexperiment_id \u001b[39m!=\u001b[39m exp_id:\n\u001b[1;32m    <a href='file:///home/ubuntu/anaconda3/lib/python3.9/site-packages/mlflow/store/tracking/file_store.py?line=553'>554</a>\u001b[0m     \u001b[39mraise\u001b[39;00m MlflowException(\n\u001b[1;32m    <a href='file:///home/ubuntu/anaconda3/lib/python3.9/site-packages/mlflow/store/tracking/file_store.py?line=554'>555</a>\u001b[0m         \u001b[39m\"\u001b[39m\u001b[39mRun \u001b[39m\u001b[39m'\u001b[39m\u001b[39m%s\u001b[39;00m\u001b[39m'\u001b[39m\u001b[39m metadata is in invalid state.\u001b[39m\u001b[39m\"\u001b[39m \u001b[39m%\u001b[39m run_uuid, databricks_pb2\u001b[39m.\u001b[39mINVALID_STATE\n\u001b[1;32m    <a href='file:///home/ubuntu/anaconda3/lib/python3.9/site-packages/mlflow/store/tracking/file_store.py?line=555'>556</a>\u001b[0m     )\n",
      "File \u001b[0;32m~/anaconda3/lib/python3.9/site-packages/mlflow/store/tracking/file_store.py:560\u001b[0m, in \u001b[0;36mFileStore._get_run_info_from_dir\u001b[0;34m(self, run_dir)\u001b[0m\n\u001b[1;32m    <a href='file:///home/ubuntu/anaconda3/lib/python3.9/site-packages/mlflow/store/tracking/file_store.py?line=558'>559</a>\u001b[0m \u001b[39mdef\u001b[39;00m \u001b[39m_get_run_info_from_dir\u001b[39m(\u001b[39mself\u001b[39m, run_dir):\n\u001b[0;32m--> <a href='file:///home/ubuntu/anaconda3/lib/python3.9/site-packages/mlflow/store/tracking/file_store.py?line=559'>560</a>\u001b[0m     meta \u001b[39m=\u001b[39m read_yaml(run_dir, FileStore\u001b[39m.\u001b[39;49mMETA_DATA_FILE_NAME)\n\u001b[1;32m    <a href='file:///home/ubuntu/anaconda3/lib/python3.9/site-packages/mlflow/store/tracking/file_store.py?line=560'>561</a>\u001b[0m     run_info \u001b[39m=\u001b[39m _read_persisted_run_info_dict(meta)\n\u001b[1;32m    <a href='file:///home/ubuntu/anaconda3/lib/python3.9/site-packages/mlflow/store/tracking/file_store.py?line=561'>562</a>\u001b[0m     \u001b[39mreturn\u001b[39;00m run_info\n",
      "File \u001b[0;32m~/anaconda3/lib/python3.9/site-packages/mlflow/utils/file_utils.py:179\u001b[0m, in \u001b[0;36mread_yaml\u001b[0;34m(root, file_name)\u001b[0m\n\u001b[1;32m    <a href='file:///home/ubuntu/anaconda3/lib/python3.9/site-packages/mlflow/utils/file_utils.py?line=176'>177</a>\u001b[0m file_path \u001b[39m=\u001b[39m os\u001b[39m.\u001b[39mpath\u001b[39m.\u001b[39mjoin(root, file_name)\n\u001b[1;32m    <a href='file:///home/ubuntu/anaconda3/lib/python3.9/site-packages/mlflow/utils/file_utils.py?line=177'>178</a>\u001b[0m \u001b[39mif\u001b[39;00m \u001b[39mnot\u001b[39;00m exists(file_path):\n\u001b[0;32m--> <a href='file:///home/ubuntu/anaconda3/lib/python3.9/site-packages/mlflow/utils/file_utils.py?line=178'>179</a>\u001b[0m     \u001b[39mraise\u001b[39;00m MissingConfigException(\u001b[39m\"\u001b[39m\u001b[39mYaml file \u001b[39m\u001b[39m'\u001b[39m\u001b[39m%s\u001b[39;00m\u001b[39m'\u001b[39m\u001b[39m does not exist.\u001b[39m\u001b[39m\"\u001b[39m \u001b[39m%\u001b[39m file_path)\n\u001b[1;32m    <a href='file:///home/ubuntu/anaconda3/lib/python3.9/site-packages/mlflow/utils/file_utils.py?line=179'>180</a>\u001b[0m \u001b[39mtry\u001b[39;00m:\n\u001b[1;32m    <a href='file:///home/ubuntu/anaconda3/lib/python3.9/site-packages/mlflow/utils/file_utils.py?line=180'>181</a>\u001b[0m     \u001b[39mwith\u001b[39;00m codecs\u001b[39m.\u001b[39mopen(file_path, mode\u001b[39m=\u001b[39m\u001b[39m\"\u001b[39m\u001b[39mr\u001b[39m\u001b[39m\"\u001b[39m, encoding\u001b[39m=\u001b[39mENCODING) \u001b[39mas\u001b[39;00m yaml_file:\n",
      "\u001b[0;31mMissingConfigException\u001b[0m: Yaml file '/home/ubuntu/notebooks/week 2/mlruns/1/c458c2f0cd6f498899439f5aff540282/meta.yaml' does not exist."
     ]
    }
   ],
   "source": [
    "%time test_model(run_id=run_id, X_test=X_test, y_test=y_test)"
   ]
  }
 ],
 "metadata": {
  "interpreter": {
   "hash": "caf1c2fcf97217de91eafa76b907d50f9ea378f5ffbee7f571142d119bb6a771"
  },
  "kernelspec": {
   "display_name": "Python 3.9.12 ('base')",
   "language": "python",
   "name": "python3"
  },
  "language_info": {
   "codemirror_mode": {
    "name": "ipython",
    "version": 3
   },
   "file_extension": ".py",
   "mimetype": "text/x-python",
   "name": "python",
   "nbconvert_exporter": "python",
   "pygments_lexer": "ipython3",
   "version": "3.9.12"
  },
  "orig_nbformat": 4
 },
 "nbformat": 4,
 "nbformat_minor": 2
}
